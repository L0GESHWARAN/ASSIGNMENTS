{
 "cells": [
  {
   "cell_type": "markdown",
   "metadata": {},
   "source": [
    "#### 1.Create the below pattern using nested for loop in Python.\n",
    "###         *\n",
    "###         *     * \n",
    "###         *     *    *\n",
    "###         *     *    *   *\n",
    "###         *     *    *   *   *\n",
    "###         *     *    *   *\n",
    "###         *     *    *\n",
    "###         *     *\n",
    "###         *"
   ]
  },
  {
   "cell_type": "code",
   "execution_count": 2,
   "metadata": {},
   "outputs": [],
   "source": []
  },
  {
   "cell_type": "code",
   "execution_count": 23,
   "metadata": {},
   "outputs": [
    {
     "name": "stdout",
     "output_type": "stream",
     "text": [
      "\n",
      "\n",
      "* \n",
      "\n",
      "* * \n",
      "\n",
      "* * * \n",
      "\n",
      "* * * * \n",
      "\n",
      "* * * * * \n",
      "\n",
      "* * * * \n",
      "\n",
      "* * * \n",
      "\n",
      "* * \n",
      "\n",
      "* \n",
      "\n"
     ]
    }
   ],
   "source": [
    "for i in range(5):\n",
    "    for j in range(i):\n",
    "        print('*',end=' ')\n",
    "    print('\\n')\n",
    "for i in range(5,0,-1):\n",
    "    for j in range(i):\n",
    "        print('*',end=' ')\n",
    "    print('\\n')"
   ]
  },
  {
   "cell_type": "code",
   "execution_count": null,
   "metadata": {},
   "outputs": [],
   "source": []
  },
  {
   "cell_type": "markdown",
   "metadata": {},
   "source": [
    "#### 2.Write a Python program to reverse a word after accepting the input from the user. \n",
    "#### Input word: ineuron\n",
    "#### Output :norueni"
   ]
  },
  {
   "cell_type": "code",
   "execution_count": null,
   "metadata": {},
   "outputs": [],
   "source": []
  },
  {
   "cell_type": "code",
   "execution_count": 30,
   "metadata": {},
   "outputs": [
    {
     "name": "stdout",
     "output_type": "stream",
     "text": [
      "Please Enter your Name: ineuron\n",
      "\n",
      "\n",
      " OUTPUT:  norueni\n"
     ]
    }
   ],
   "source": [
    "#solution 1\n",
    "name = input('Please Enter your Name: ')\n",
    "o_p = name[::-1]\n",
    "print('\\n\\n OUTPUT: ',o_p)"
   ]
  },
  {
   "cell_type": "code",
   "execution_count": null,
   "metadata": {},
   "outputs": [],
   "source": []
  },
  {
   "cell_type": "code",
   "execution_count": 35,
   "metadata": {},
   "outputs": [
    {
     "name": "stdout",
     "output_type": "stream",
     "text": [
      "Please Enter your Name: ineuron\n",
      "\n",
      "\n",
      " OUTPUT:  norueni\n"
     ]
    }
   ],
   "source": [
    "#solution 2\n",
    "name = input('Please Enter your Name: ')\n",
    "length = len(name)\n",
    "o_p=''\n",
    "for i in range(length):\n",
    "    a = name[length-1]\n",
    "    o_p+=a\n",
    "    length-=1\n",
    "print('\\n\\n OUTPUT: ',o_p)"
   ]
  },
  {
   "cell_type": "code",
   "execution_count": null,
   "metadata": {},
   "outputs": [],
   "source": []
  }
 ],
 "metadata": {
  "kernelspec": {
   "display_name": "Python 3",
   "language": "python",
   "name": "python3"
  },
  "language_info": {
   "codemirror_mode": {
    "name": "ipython",
    "version": 3
   },
   "file_extension": ".py",
   "mimetype": "text/x-python",
   "name": "python",
   "nbconvert_exporter": "python",
   "pygments_lexer": "ipython3",
   "version": "3.8.5"
  }
 },
 "nbformat": 4,
 "nbformat_minor": 4
}
