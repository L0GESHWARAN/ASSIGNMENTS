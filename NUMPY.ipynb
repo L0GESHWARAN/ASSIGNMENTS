{
 "cells": [
  {
   "cell_type": "code",
   "execution_count": 2,
   "metadata": {},
   "outputs": [
    {
     "name": "stdout",
     "output_type": "stream",
     "text": [
      "[[ 1  1  1  1]\n",
      " [ 8  4  2  1]\n",
      " [27  9  3  1]]\n",
      "\n",
      "\n",
      "\n",
      "[[ 1  1  1  1]\n",
      " [ 1  2  4  8]\n",
      " [ 1  3  9 27]]\n"
     ]
    }
   ],
   "source": [
    "import numpy as np\n",
    "\n",
    "def Alexandre(l, N, increasing = False):\n",
    "    if increasing:\n",
    "        print(np.array([ j** i for j in l for i in range(N)]).reshape(len(l), N))\n",
    "    else:\n",
    "        print(np.array([ j** (N-1-i) for j in l for i in range(N)]).reshape(len(l), N))\n",
    "        \n",
    "mylst = [1,2,3]\n",
    "N = 4\n",
    "\n",
    "Alexandre(np.array(mylst),N)\n",
    "print('\\n\\n')\n",
    "Alexandre(np.array(mylst),N, increasing= True)"
   ]
  },
  {
   "cell_type": "raw",
   "metadata": {},
   "source": [
    "# i 1 2 3 4 5 6 7 8 9 10\n",
    "===== == == == == == == == == == ==\n",
    "Input 10 20 30 40 50 60 70 80 90 100\n",
    "y1 25 = (10+20+30+40)/4\n",
    "y2 35 = (20+30+40+50)/4\n",
    "y3 45 = (30+40+50+60)/4\n",
    "y4 55 = (40+50+60+70)/4\n",
    "y5 65 = (50+60+70+80)/4\n",
    "y6 75 = (60+70+80+90)/4\n",
    "y7 85 = (70+80+90+100)/4"
   ]
  },
  {
   "cell_type": "markdown",
   "metadata": {},
   "source": [
    "# Write a function to find moving average in an array over a window:\n",
    "Test it over [3, 5, 7, 2, 8, 10, 11, 65, 72, 81, 99, 100, 150] and window of 3."
   ]
  },
  {
   "cell_type": "code",
   "execution_count": 3,
   "metadata": {},
   "outputs": [
    {
     "name": "stdout",
     "output_type": "stream",
     "text": [
      "average sequence size: 11\n",
      "result list size: 11\n",
      "y1 = 5.0\n",
      "y2 = 4.666666666666667\n",
      "y3 = 5.666666666666667\n",
      "y4 = 6.666666666666667\n",
      "y5 = 9.666666666666666\n",
      "y6 = 28.666666666666668\n",
      "y7 = 49.333333333333336\n",
      "y8 = 72.66666666666667\n",
      "y9 = 84.0\n",
      "y10 = 93.33333333333333\n",
      "y11 = 116.33333333333333\n"
     ]
    }
   ],
   "source": [
    "\n",
    "myvar= [3, 5, 7, 2, 8, 10, 11, 65, 72, 81, 99, 100, 150] \n",
    "window = 3\n",
    "result = []\n",
    "\n",
    "for i in range(len(myvar)):\n",
    "    if i != len(myvar)-2:\n",
    "        result.append((myvar[i]+myvar[i+1]+myvar[i+2])/window)\n",
    "    else:\n",
    "        break\n",
    "result_size = len(myvar)-window+1\n",
    "print(f'average sequence size: {result_size}')\n",
    "print(f'result list size: {len(result)}')\n",
    "for i in range(len(result)):\n",
    "    print(f'y{i+1} = {result[i]}')"
   ]
  },
  {
   "cell_type": "code",
   "execution_count": null,
   "metadata": {},
   "outputs": [],
   "source": []
  }
 ],
 "metadata": {
  "kernelspec": {
   "display_name": "Python 3",
   "language": "python",
   "name": "python3"
  },
  "language_info": {
   "codemirror_mode": {
    "name": "ipython",
    "version": 3
   },
   "file_extension": ".py",
   "mimetype": "text/x-python",
   "name": "python",
   "nbconvert_exporter": "python",
   "pygments_lexer": "ipython3",
   "version": "3.8.5"
  }
 },
 "nbformat": 4,
 "nbformat_minor": 4
}
